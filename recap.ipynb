{
 "cells": [
  {
   "cell_type": "code",
   "execution_count": 1,
   "id": "299d5c98-fda1-4f12-b5ac-c03753357c70",
   "metadata": {},
   "outputs": [],
   "source": [
    "from pyspark.sql import SparkSession\n",
    "\n",
    "# Initialize Spark session\n",
    "spark = SparkSession.builder\\\n",
    "    .appName(\"Recap-retro\")\\\n",
    "    .config(\"spark.executor.memory\",\"4g\")\\\n",
    "    .config(\"spark.dynamicAllocation.enabled\", \"true\")\\\n",
    "    .config(\"spark.dynamicAllocation.maxExecutors\", \"30\")\\\n",
    "    .config(\"spark.serializer\", \"org.apache.spark.serializer.KryoSerializer\")\\\n",
    "    .getOrCreate()\n"
   ]
  },
  {
   "cell_type": "code",
   "execution_count": 2,
   "id": "5b9cf9dd-6892-4163-9738-b117981a3c99",
   "metadata": {},
   "outputs": [
    {
     "name": "stderr",
     "output_type": "stream",
     "text": [
      "                                                                                "
     ]
    },
    {
     "data": {
      "text/plain": [
       "3621"
      ]
     },
     "execution_count": 2,
     "metadata": {},
     "output_type": "execute_result"
    }
   ],
   "source": [
    "# get the data\n",
    "\n",
    "# Specify the S3 path\n",
    "s3_path = \"s3a://inesh/parseable/*/*/*/*/\"\n",
    "\n",
    "# Read Parquet files from the S3 path\n",
    "df = spark.read.parquet(s3_path)\n",
    "\n",
    "# nb of lines\n",
    "df.count()\n"
   ]
  },
  {
   "cell_type": "code",
   "execution_count": 3,
   "id": "603b83cf-cad4-4b09-9e1c-c971830e773f",
   "metadata": {},
   "outputs": [],
   "source": [
    "namespace = \"user-inesh\"\n",
    "\n",
    "df = df.filter(df[\"namespace\"]== namespace)\n"
   ]
  },
  {
   "cell_type": "code",
   "execution_count": 4,
   "id": "0cda5cc5-10ee-455b-bdf8-856a7740b5a7",
   "metadata": {},
   "outputs": [
    {
     "name": "stderr",
     "output_type": "stream",
     "text": [
      "[Stage 5:=======================================================> (70 + 2) / 72]"
     ]
    },
    {
     "name": "stdout",
     "output_type": "stream",
     "text": [
      "nb services installés : 41\n",
      "nb services désinstallés : 38\n",
      "nb de services du catalogue ide installés : 33 dont 23 vscode-python, 7 jupyter-python et 1 rstudio.\n",
      "nb de services du catalogue automation installés : 0\n",
      "nb de services du catalogue dataviz installés : 1\n",
      "nb de services du catalogue databases installés : 7\n",
      "nb de services du catalogue divers installés : 0\n",
      "nb de services du catalogue de training installés : 0\n",
      "nb de services du catalogue ide datascience : 2\n"
     ]
    },
    {
     "name": "stderr",
     "output_type": "stream",
     "text": [
      "                                                                                "
     ]
    }
   ],
   "source": [
    "from pyspark.sql.functions import col, when, sum as _sum\n",
    "\n",
    "# Define conditions for the specific counts\n",
    "conditions = [\n",
    "    (col(\"type\") == \"service.install\", \"df_install\"),\n",
    "    (col(\"type\") == \"service.uninstall\", \"df_uninstall\"),\n",
    "    (col(\"packageName\") == \"vscode-python\", \"vscode_python\"),\n",
    "    (col(\"packageName\") == \"jupyter-python\", \"jupyter_python\"),\n",
    "    (col(\"packageName\") == \"rstudio\", \"rstudio\"),\n",
    "    (col(\"catalogId\") == \"automation\", \"automation\"),\n",
    "    (col(\"catalogId\") == \"dataviz\", \"dataviz\"),\n",
    "    (col(\"catalogId\") == \"databases\", \"databases\"),\n",
    "    (col(\"catalogId\") == \"divers\", \"divers\"),\n",
    "    (col(\"catalogId\") == \"ide\", \"ide\"),\n",
    "    (col(\"catalogId\") == \"inseefrlab-helm-charts-trainings\", \"trainings\"),\n",
    "    (col(\"catalogId\") == \"inseefrlab-helm-charts-datascience\", \"datascience\"),\n",
    "    \n",
    "]\n",
    "\n",
    "# Add a new column for each condition and count occurrences\n",
    "df_with_conditions = df.select(\n",
    "    *[\n",
    "        when(cond, 1).otherwise(0).alias(name)\n",
    "        for cond, name in conditions\n",
    "    ]\n",
    ")\n",
    "\n",
    "# Sum up the counts for each condition\n",
    "result = df_with_conditions.agg(\n",
    "    *[_sum(col(name)).alias(name) for _, name in conditions]\n",
    ").collect()[0]\n",
    "\n",
    "# Extract the results\n",
    "(\n",
    "    df_install,\n",
    "    df_uninstall,\n",
    "    vscode_python,\n",
    "    jupyter_python,\n",
    "    rstudio,\n",
    "    automation,\n",
    "    dataviz,\n",
    "    databases,\n",
    "    divers,\n",
    "    ide,\n",
    "    trainings, \n",
    "    datascience\n",
    ") = result\n",
    "\n",
    "# Print the results\n",
    "print(f\"nb services installés : {df_install}\")\n",
    "print(f\"nb services désinstallés : {df_uninstall}\")\n",
    "print(f\"nb de services du catalogue ide installés : {ide} dont {vscode_python} vscode-python, {jupyter_python} jupyter-python et {rstudio} rstudio.\")\n",
    "print(f\"nb de services du catalogue automation installés : {automation}\")\n",
    "print(f\"nb de services du catalogue dataviz installés : {dataviz}\")\n",
    "print(f\"nb de services du catalogue databases installés : {databases}\")\n",
    "print(f\"nb de services du catalogue divers installés : {divers}\")\n",
    "print(f\"nb de services du catalogue de training installés : {trainings}\")\n",
    "print(f\"nb de services du catalogue ide datascience : {datascience}\")\n"
   ]
  },
  {
   "cell_type": "code",
   "execution_count": null,
   "id": "5a5cf310-9e17-4357-8697-8ffa5f205efe",
   "metadata": {},
   "outputs": [],
   "source": []
  }
 ],
 "metadata": {
  "kernelspec": {
   "display_name": "Python 3 (ipykernel)",
   "language": "python",
   "name": "python3"
  },
  "language_info": {
   "codemirror_mode": {
    "name": "ipython",
    "version": 3
   },
   "file_extension": ".py",
   "mimetype": "text/x-python",
   "name": "python",
   "nbconvert_exporter": "python",
   "pygments_lexer": "ipython3",
   "version": "3.12.7"
  }
 },
 "nbformat": 4,
 "nbformat_minor": 5
}
